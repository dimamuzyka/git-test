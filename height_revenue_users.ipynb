{
 "cells": [
  {
   "cell_type": "code",
   "execution_count": 79,
   "metadata": {},
   "outputs": [
    {
     "name": "stdout",
     "output_type": "stream",
     "text": [
      "<class 'pandas.core.frame.DataFrame'>\n",
      "RangeIndex: 611778 entries, 0 to 611777\n",
      "Data columns (total 2 columns):\n",
      " #   Column         Non-Null Count   Dtype\n",
      "---  ------         --------------   -----\n",
      " 0   customer_id    611778 non-null  int64\n",
      " 1   total_revenue  611778 non-null  int64\n",
      "dtypes: int64(2)\n",
      "memory usage: 9.3 MB\n"
     ]
    }
   ],
   "source": [
    "import pandas as pd\n",
    "import matplotlib.pyplot as plt\n",
    "\n",
    "df = pd.read_csv('height_value_users1.csv')\n",
    "df.info()\n",
    "\n",
    "\n"
   ]
  },
  {
   "cell_type": "code",
   "execution_count": 94,
   "metadata": {},
   "outputs": [
    {
     "data": {
      "text/plain": [
       "235708754"
      ]
     },
     "execution_count": 94,
     "metadata": {},
     "output_type": "execute_result"
    }
   ],
   "source": [
    "df['total_revenue'].sum()"
   ]
  },
  {
   "cell_type": "code",
   "execution_count": 92,
   "metadata": {},
   "outputs": [
    {
     "data": {
      "text/plain": [
       "980.0"
      ]
     },
     "execution_count": 92,
     "metadata": {},
     "output_type": "execute_result"
    }
   ],
   "source": [
    "q = df['total_revenue'].quantile(0.95)\n",
    "q"
   ]
  },
  {
   "cell_type": "code",
   "execution_count": 59,
   "metadata": {},
   "outputs": [],
   "source": [
    "df['total_revenue_q'] = pd.cut(df['total_revenue'], 10)"
   ]
  },
  {
   "cell_type": "code",
   "execution_count": 60,
   "metadata": {},
   "outputs": [
    {
     "data": {
      "text/html": [
       "<div>\n",
       "<style scoped>\n",
       "    .dataframe tbody tr th:only-of-type {\n",
       "        vertical-align: middle;\n",
       "    }\n",
       "\n",
       "    .dataframe tbody tr th {\n",
       "        vertical-align: top;\n",
       "    }\n",
       "\n",
       "    .dataframe thead th {\n",
       "        text-align: right;\n",
       "    }\n",
       "</style>\n",
       "<table border=\"1\" class=\"dataframe\">\n",
       "  <thead>\n",
       "    <tr style=\"text-align: right;\">\n",
       "      <th></th>\n",
       "      <th>count</th>\n",
       "    </tr>\n",
       "    <tr>\n",
       "      <th>total_revenue_q</th>\n",
       "      <th></th>\n",
       "    </tr>\n",
       "  </thead>\n",
       "  <tbody>\n",
       "    <tr>\n",
       "      <th>(94.272, 4106.8]</th>\n",
       "      <td>611096</td>\n",
       "    </tr>\n",
       "    <tr>\n",
       "      <th>(4106.8, 8079.6]</th>\n",
       "      <td>427</td>\n",
       "    </tr>\n",
       "    <tr>\n",
       "      <th>(8079.6, 12052.4]</th>\n",
       "      <td>205</td>\n",
       "    </tr>\n",
       "    <tr>\n",
       "      <th>(12052.4, 16025.2]</th>\n",
       "      <td>20</td>\n",
       "    </tr>\n",
       "    <tr>\n",
       "      <th>(16025.2, 19998.0]</th>\n",
       "      <td>11</td>\n",
       "    </tr>\n",
       "    <tr>\n",
       "      <th>(19998.0, 23970.8]</th>\n",
       "      <td>12</td>\n",
       "    </tr>\n",
       "    <tr>\n",
       "      <th>(23970.8, 27943.6]</th>\n",
       "      <td>1</td>\n",
       "    </tr>\n",
       "    <tr>\n",
       "      <th>(27943.6, 31916.4]</th>\n",
       "      <td>1</td>\n",
       "    </tr>\n",
       "    <tr>\n",
       "      <th>(31916.4, 35889.2]</th>\n",
       "      <td>4</td>\n",
       "    </tr>\n",
       "    <tr>\n",
       "      <th>(35889.2, 39862.0]</th>\n",
       "      <td>1</td>\n",
       "    </tr>\n",
       "  </tbody>\n",
       "</table>\n",
       "</div>"
      ],
      "text/plain": [
       "                     count\n",
       "total_revenue_q           \n",
       "(94.272, 4106.8]    611096\n",
       "(4106.8, 8079.6]       427\n",
       "(8079.6, 12052.4]      205\n",
       "(12052.4, 16025.2]      20\n",
       "(16025.2, 19998.0]      11\n",
       "(19998.0, 23970.8]      12\n",
       "(23970.8, 27943.6]       1\n",
       "(27943.6, 31916.4]       1\n",
       "(31916.4, 35889.2]       4\n",
       "(35889.2, 39862.0]       1"
      ]
     },
     "execution_count": 60,
     "metadata": {},
     "output_type": "execute_result"
    }
   ],
   "source": [
    "df.groupby('total_revenue_q',dropna=False)['customer_id'].agg(['count'])"
   ]
  },
  {
   "cell_type": "code",
   "execution_count": 65,
   "metadata": {},
   "outputs": [],
   "source": [
    "df1 = df.query('total_revenue < 4100')"
   ]
  },
  {
   "cell_type": "code",
   "execution_count": 67,
   "metadata": {},
   "outputs": [
    {
     "name": "stderr",
     "output_type": "stream",
     "text": [
      "/var/folders/yg/wf8jyrpd3q723wvhyghcc1v00000gn/T/ipykernel_80105/352529309.py:1: SettingWithCopyWarning: \n",
      "A value is trying to be set on a copy of a slice from a DataFrame.\n",
      "Try using .loc[row_indexer,col_indexer] = value instead\n",
      "\n",
      "See the caveats in the documentation: https://pandas.pydata.org/pandas-docs/stable/user_guide/indexing.html#returning-a-view-versus-a-copy\n",
      "  df1['total_revenue_p'] = pd.cut(df1['total_revenue'], 10)\n"
     ]
    }
   ],
   "source": [
    "df1['total_revenue_p'] = pd.cut(df1['total_revenue'], 10)"
   ]
  },
  {
   "cell_type": "code",
   "execution_count": 74,
   "metadata": {},
   "outputs": [
    {
     "data": {
      "text/html": [
       "<div>\n",
       "<style scoped>\n",
       "    .dataframe tbody tr th:only-of-type {\n",
       "        vertical-align: middle;\n",
       "    }\n",
       "\n",
       "    .dataframe tbody tr th {\n",
       "        vertical-align: top;\n",
       "    }\n",
       "\n",
       "    .dataframe thead th {\n",
       "        text-align: right;\n",
       "    }\n",
       "</style>\n",
       "<table border=\"1\" class=\"dataframe\">\n",
       "  <thead>\n",
       "    <tr style=\"text-align: right;\">\n",
       "      <th></th>\n",
       "      <th>customer_id</th>\n",
       "      <th>total_revenue</th>\n",
       "      <th>total_revenue_q</th>\n",
       "    </tr>\n",
       "  </thead>\n",
       "  <tbody>\n",
       "    <tr>\n",
       "      <th>682</th>\n",
       "      <td>78423302</td>\n",
       "      <td>4095</td>\n",
       "      <td>(3698.9, 4095.0]</td>\n",
       "    </tr>\n",
       "    <tr>\n",
       "      <th>683</th>\n",
       "      <td>1263445023</td>\n",
       "      <td>4093</td>\n",
       "      <td>(3698.9, 4095.0]</td>\n",
       "    </tr>\n",
       "    <tr>\n",
       "      <th>684</th>\n",
       "      <td>1347417304</td>\n",
       "      <td>4091</td>\n",
       "      <td>(3698.9, 4095.0]</td>\n",
       "    </tr>\n",
       "    <tr>\n",
       "      <th>685</th>\n",
       "      <td>1246853897</td>\n",
       "      <td>4087</td>\n",
       "      <td>(3698.9, 4095.0]</td>\n",
       "    </tr>\n",
       "    <tr>\n",
       "      <th>686</th>\n",
       "      <td>1235654109</td>\n",
       "      <td>4081</td>\n",
       "      <td>(3698.9, 4095.0]</td>\n",
       "    </tr>\n",
       "    <tr>\n",
       "      <th>...</th>\n",
       "      <td>...</td>\n",
       "      <td>...</td>\n",
       "      <td>...</td>\n",
       "    </tr>\n",
       "    <tr>\n",
       "      <th>611773</th>\n",
       "      <td>363283898</td>\n",
       "      <td>134</td>\n",
       "      <td>(130.039, 530.1]</td>\n",
       "    </tr>\n",
       "    <tr>\n",
       "      <th>611774</th>\n",
       "      <td>188416872</td>\n",
       "      <td>134</td>\n",
       "      <td>(130.039, 530.1]</td>\n",
       "    </tr>\n",
       "    <tr>\n",
       "      <th>611775</th>\n",
       "      <td>502310742</td>\n",
       "      <td>134</td>\n",
       "      <td>(130.039, 530.1]</td>\n",
       "    </tr>\n",
       "    <tr>\n",
       "      <th>611776</th>\n",
       "      <td>81022870</td>\n",
       "      <td>134</td>\n",
       "      <td>(130.039, 530.1]</td>\n",
       "    </tr>\n",
       "    <tr>\n",
       "      <th>611777</th>\n",
       "      <td>269381592</td>\n",
       "      <td>134</td>\n",
       "      <td>(130.039, 530.1]</td>\n",
       "    </tr>\n",
       "  </tbody>\n",
       "</table>\n",
       "<p>611096 rows × 3 columns</p>\n",
       "</div>"
      ],
      "text/plain": [
       "        customer_id  total_revenue   total_revenue_q\n",
       "682        78423302           4095  (3698.9, 4095.0]\n",
       "683      1263445023           4093  (3698.9, 4095.0]\n",
       "684      1347417304           4091  (3698.9, 4095.0]\n",
       "685      1246853897           4087  (3698.9, 4095.0]\n",
       "686      1235654109           4081  (3698.9, 4095.0]\n",
       "...             ...            ...               ...\n",
       "611773    363283898            134  (130.039, 530.1]\n",
       "611774    188416872            134  (130.039, 530.1]\n",
       "611775    502310742            134  (130.039, 530.1]\n",
       "611776     81022870            134  (130.039, 530.1]\n",
       "611777    269381592            134  (130.039, 530.1]\n",
       "\n",
       "[611096 rows x 3 columns]"
      ]
     },
     "execution_count": 74,
     "metadata": {},
     "output_type": "execute_result"
    }
   ],
   "source": [
    "df1.drop(['total_revenue_p'], axis='columns')"
   ]
  },
  {
   "cell_type": "code",
   "execution_count": 75,
   "metadata": {},
   "outputs": [
    {
     "data": {
      "text/html": [
       "<div>\n",
       "<style scoped>\n",
       "    .dataframe tbody tr th:only-of-type {\n",
       "        vertical-align: middle;\n",
       "    }\n",
       "\n",
       "    .dataframe tbody tr th {\n",
       "        vertical-align: top;\n",
       "    }\n",
       "\n",
       "    .dataframe thead th {\n",
       "        text-align: right;\n",
       "    }\n",
       "</style>\n",
       "<table border=\"1\" class=\"dataframe\">\n",
       "  <thead>\n",
       "    <tr style=\"text-align: right;\">\n",
       "      <th></th>\n",
       "      <th>count</th>\n",
       "    </tr>\n",
       "    <tr>\n",
       "      <th>total_revenue_q</th>\n",
       "      <th></th>\n",
       "    </tr>\n",
       "  </thead>\n",
       "  <tbody>\n",
       "    <tr>\n",
       "      <th>(130.039, 530.1]</th>\n",
       "      <td>480036</td>\n",
       "    </tr>\n",
       "    <tr>\n",
       "      <th>(530.1, 926.2]</th>\n",
       "      <td>60992</td>\n",
       "    </tr>\n",
       "    <tr>\n",
       "      <th>(926.2, 1322.3]</th>\n",
       "      <td>56962</td>\n",
       "    </tr>\n",
       "    <tr>\n",
       "      <th>(1322.3, 1718.4]</th>\n",
       "      <td>5116</td>\n",
       "    </tr>\n",
       "    <tr>\n",
       "      <th>(1718.4, 2114.5]</th>\n",
       "      <td>3776</td>\n",
       "    </tr>\n",
       "    <tr>\n",
       "      <th>(2114.5, 2510.6]</th>\n",
       "      <td>1212</td>\n",
       "    </tr>\n",
       "    <tr>\n",
       "      <th>(2510.6, 2906.7]</th>\n",
       "      <td>2111</td>\n",
       "    </tr>\n",
       "    <tr>\n",
       "      <th>(2906.7, 3302.8]</th>\n",
       "      <td>529</td>\n",
       "    </tr>\n",
       "    <tr>\n",
       "      <th>(3302.8, 3698.9]</th>\n",
       "      <td>229</td>\n",
       "    </tr>\n",
       "    <tr>\n",
       "      <th>(3698.9, 4095.0]</th>\n",
       "      <td>133</td>\n",
       "    </tr>\n",
       "  </tbody>\n",
       "</table>\n",
       "</div>"
      ],
      "text/plain": [
       "                   count\n",
       "total_revenue_q         \n",
       "(130.039, 530.1]  480036\n",
       "(530.1, 926.2]     60992\n",
       "(926.2, 1322.3]    56962\n",
       "(1322.3, 1718.4]    5116\n",
       "(1718.4, 2114.5]    3776\n",
       "(2114.5, 2510.6]    1212\n",
       "(2510.6, 2906.7]    2111\n",
       "(2906.7, 3302.8]     529\n",
       "(3302.8, 3698.9]     229\n",
       "(3698.9, 4095.0]     133"
      ]
     },
     "execution_count": 75,
     "metadata": {},
     "output_type": "execute_result"
    }
   ],
   "source": [
    "df1.groupby('total_revenue_q',dropna=False)['customer_id'].agg(['count'])"
   ]
  },
  {
   "cell_type": "code",
   "execution_count": 87,
   "metadata": {},
   "outputs": [
    {
     "data": {
      "image/png": "[encoded data removed]",
      "text/plain": [
       "<Figure size 640x480 with 1 Axes>"
      ]
     },
     "metadata": {},
     "output_type": "display_data"
    }
   ],
   "source": [
    "plt.style.use('dark_background')\n",
    "df1.groupby('total_revenue_q',dropna=False)['customer_id'].agg(['count']).plot(kind='bar')\n",
    "plt.show()"
   ]
  },
  {
   "cell_type": "code",
   "execution_count": null,
   "metadata": {},
   "outputs": [],
   "source": []
  }
 ],
 "metadata": {
  "kernelspec": {
   "display_name": "base",
   "language": "python",
   "name": "python3"
  },
  "language_info": {
   "codemirror_mode": {
    "name": "ipython",
    "version": 3
   },
   "file_extension": ".py",
   "mimetype": "text/x-python",
   "name": "python",
   "nbconvert_exporter": "python",
   "pygments_lexer": "ipython3",
   "version": "3.10.9"
  },
  "orig_nbformat": 4
 },
 "nbformat": 4,
 "nbformat_minor": 2
}
